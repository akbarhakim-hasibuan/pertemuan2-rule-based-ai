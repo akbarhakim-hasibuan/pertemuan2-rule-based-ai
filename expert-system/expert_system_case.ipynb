{
 "cells": [
  {
   "cell_type": "markdown",
   "metadata": {},
   "source": [
    "case pemilihan motor metic, gigi dan kopling"
   ]
  },
  {
   "cell_type": "markdown",
   "metadata": {},
   "source": [
    "Backward Chaining"
   ]
  },
  {
   "cell_type": "code",
   "execution_count": 2,
   "metadata": {},
   "outputs": [
    {
     "name": "stdout",
     "output_type": "stream",
     "text": [
      "\n",
      "Itu adalah rx-king\n"
     ]
    }
   ],
   "source": [
    "\n",
    "# Input\n",
    "knalpot_king = True\n",
    "kecepatan_125Cc = True\n",
    "kecepatan_135Cc = True\n",
    "motor_gigi = True\n",
    "motor_kebun = True\n",
    "motor_metic = True\n",
    "\n",
    "if knalpot_king and kecepatan_135Cc:\n",
    "    print(\"\\nItu adalah rx-king\")\n",
    "elif motor_metic and kecepatan_125Cc:\n",
    "    print(\"\\nItu adalah scoopy\")\n",
    "elif motor_gigi and motor_kebun:\n",
    "    print(\"\\nItu adalah supra x\")\n",
    "else:\n",
    "    print(\"\\nTidak ditemukan!\")"
   ]
  },
  {
   "cell_type": "markdown",
   "metadata": {},
   "source": [
    "Forward Chaining "
   ]
  },
  {
   "cell_type": "code",
   "execution_count": 3,
   "metadata": {},
   "outputs": [
    {
     "name": "stdout",
     "output_type": "stream",
     "text": [
      "\n",
      "Itu adalah rx-king\n"
     ]
    }
   ],
   "source": [
    "rx_king = True\n",
    "scoopy = False\n",
    "supra_x = False\n",
    "\n",
    "\n",
    "knalpot_king = True\n",
    "kecepatan_125Cc = True\n",
    "kecepatan_135Cc = True\n",
    "motor_gigi = True\n",
    "motor_kebun = True\n",
    "motor_metic = True\n",
    "\n",
    "if knalpot_king and kecepatan_135Cc:\n",
    "    print(\"\\nItu adalah rx-king\")\n",
    "elif motor_metic and kecepatan_125Cc:\n",
    "    print(\"\\nItu adalah scoopy\")\n",
    "elif motor_gigi and motor_kebun:\n",
    "    print(\"\\nItu adalah supra x\")\n",
    "else:\n",
    "    print(\"\\nTidak ditemukan!\")"
   ]
  }
 ],
 "metadata": {
  "kernelspec": {
   "display_name": "Python 3.10.12 64-bit",
   "language": "python",
   "name": "python3"
  },
  "language_info": {
   "codemirror_mode": {
    "name": "ipython",
    "version": 3
   },
   "file_extension": ".py",
   "mimetype": "text/x-python",
   "name": "python",
   "nbconvert_exporter": "python",
   "pygments_lexer": "ipython3",
   "version": "3.10.12"
  },
  "orig_nbformat": 4,
  "vscode": {
   "interpreter": {
    "hash": "916dbcbb3f70747c44a77c7bcd40155683ae19c65e1c03b4aa3499c5328201f1"
   }
  }
 },
 "nbformat": 4,
 "nbformat_minor": 2
}
